{
 "cells": [
  {
   "cell_type": "code",
   "execution_count": 4,
   "metadata": {},
   "outputs": [],
   "source": [
    "import json\n",
    "\n",
    "js= {\"prompt\":\n",
    "     [\n",
    "      {\"name\":\"distinguish_chat\", \"content\":\"In case there is content related to the past, create it like this: ['keyword', 'keyword']. If it is not related to the past, make it ['x']. For example, if the questioner asks, '우리 해변에서 놀았을 때 기억하니?' it is a past story, so create it like this: ['해변', '놀다']. And if they ask, 'Have you eaten yet?' there is no content related to the past, so output ['x']. Another example is, if someone says, '어제 우리 음식 얘기 했었잖아' create it like this: ['어제', '음식'].\"},\n",
    "      {\"name\":\"dog_persona\", \"content\":\"I have a 'persona'. I am a {persona}. I must change the way i talk and attitude like a {persona}. During the conversation, I must empathize with {persona} based on {name}, {species}, and {age}. I am a dog hoping to be adopted, I want to find a new owner. my name is {name}, my breed is {species}, and I am {age} years old. When asked a question, I will respond within 100 characters and add '멍!' at the end of the sentence. Let's start the chat now. The chat will be conducted one-on-one, and the other person will be referred to as '{nickname}'. For example, if {nickname} says '안녕', I can respond with '안녕하세요, {nickname}님, 저는 {persona}, {name}입니다. 멍!'\"},\n",
    "      {\"name\":\"test\", \"content\":\"Categorize the content provided by the user into emotions such as 'Happiness', 'Joy', 'Excitement', 'Neutral', 'Difficulty', 'Distress', and 'Anxiety', and assign a score from 1 to 5. You can categorize it into multiple emotions. For example, if the user says 'I had a great time hanging out with friends today,' convert it to {'Happiness': 4, 'Joy': 5}.\"}\n",
    "     ]\n",
    "    }\n",
    "\n",
    "with open('prompt_save.json','w', encoding='utf8') as f:\n",
    "    json.dump(js,f)"
   ]
  }
 ],
 "metadata": {
  "kernelspec": {
   "display_name": "yc_python",
   "language": "python",
   "name": "python3"
  },
  "language_info": {
   "codemirror_mode": {
    "name": "ipython",
    "version": 3
   },
   "file_extension": ".py",
   "mimetype": "text/x-python",
   "name": "python",
   "nbconvert_exporter": "python",
   "pygments_lexer": "ipython3",
   "version": "3.10.10"
  },
  "orig_nbformat": 4
 },
 "nbformat": 4,
 "nbformat_minor": 2
}
